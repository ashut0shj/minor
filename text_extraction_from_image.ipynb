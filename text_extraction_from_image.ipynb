{
 "cells": [
  {
   "cell_type": "code",
   "execution_count": null,
   "metadata": {},
   "outputs": [],
   "source": []
  },
  {
   "cell_type": "code",
   "execution_count": 2,
   "id": "7e8e346f",
   "metadata": {
    "scrolled": false
   },
   "outputs": [
    {
     "name": "stdout",
     "output_type": "stream",
     "text": [
      "SCENE FROM “DAN'L DRUCE.”\n",
      "\n",
      "‘This interesting domestic drama, by Mr. W. 8. Gilbert,\n",
      "has continued to engage the sympathies of a nightly\n",
      "suflicient audience at the Haymarket Theatre, where it\n",
      "has now been represented more than sixty times. Its\n",
      "subject and character were described by us, in the\n",
      "ordinary report of theatrical novelties, about two months\n",
      "ago. Our readers will probably not need to be reminded\n",
      "that the licro of the story, Dan’l Druce, the blacksmith,\n",
      "i wy recluse dwelling on the coast of Norfolk,\n",
      "cre his lone cottage is visited by fugitives from party\n",
      "reance during the civil wars of the Commonwealth.\n",
      "Mis hoard of money is stolen; but a different sort of\n",
      "treasure, a helpless female infant; is left by some mys-\n",
      "terious ‘agency, and may be accepted, as in George\n",
      "Eliot's tale of “Silas Mamer,” for a Divine gift to the\n",
      "sad-hearted misanthrope, fat better than riches. In\n",
      "this spirit, at least, he is content to receive the precious\n",
      "human charge; and so to those who would remove it\n",
      "from his home, Dan’l Druce here makes answer with\n",
      "the solemn exclamation, “Touch not the Lord’s gift!”\n",
      "‘This character is well acted by Mr. Hermann Vezin,\n",
      "\n"
     ]
    }
   ],
   "source": [
    "from PIL import Image \n",
    "from pytesseract import pytesseract \n",
    "image_path = r\"text.png\"\n",
    "img = Image.open(image_path) \n",
    "text = pytesseract.image_to_string(img) \n",
    "print(text[:-1])\n"
   ]
  },
  {
   "cell_type": "code",
   "execution_count": null,
   "id": "092901b2",
   "metadata": {},
   "outputs": [],
   "source": []
  }
 ],
 "metadata": {
  "kernelspec": {
   "display_name": "Python 3 (ipykernel)",
   "language": "python",
   "name": "python3"
  },
  "language_info": {
   "codemirror_mode": {
    "name": "ipython",
    "version": 3
   },
   "file_extension": ".py",
   "mimetype": "text/x-python",
   "name": "python",
   "nbconvert_exporter": "python",
   "pygments_lexer": "ipython3",
   "version": "3.11.3"
  }
 },
 "nbformat": 4,
 "nbformat_minor": 5
}
